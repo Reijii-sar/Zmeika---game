{
 "cells": [
  {
   "cell_type": "code",
   "execution_count": 17,
   "id": "d2e1852c",
   "metadata": {},
   "outputs": [],
   "source": [
    "from tkinter import *\n",
    "import time\n",
    "import random"
   ]
  },
  {
   "cell_type": "code",
   "execution_count": 18,
   "id": "db06e058",
   "metadata": {},
   "outputs": [],
   "source": [
    "score = 0\n",
    "game = True"
   ]
  },
  {
   "cell_type": "code",
   "execution_count": 19,
   "id": "bf21d5a6",
   "metadata": {},
   "outputs": [],
   "source": [
    "#С помощью переменных задаем параметры ширины и высоты окна, а также размер одного элемента змейки.\n",
    "form_width = 500\n",
    "form_height = 500\n",
    "snake_item = 10"
   ]
  },
  {
   "cell_type": "code",
   "execution_count": 20,
   "id": "f18221f3",
   "metadata": {},
   "outputs": [],
   "source": [
    "snake_color1 = 'black'\n",
    "snake_color2 = 'green'\n",
    "snake_x = 24\n",
    "snake_y = 24\n",
    "snake_x_nav = 0\n",
    "snake_y_nav = 0\n",
    "snake_list = []\n",
    "snake_size = 3\n",
    "\n",
    "block_list = []\n",
    "block_count = 3\n",
    "block_color1 = 'red'\n",
    "block_color2 = 'green'\n",
    "\n",
    "snake_speed = 0.3\n",
    "border_width = form_width / snake_item - 1\n",
    "border_height = form_height / snake_item - 1"
   ]
  },
  {
   "cell_type": "code",
   "execution_count": 21,
   "id": "c045e405",
   "metadata": {},
   "outputs": [],
   "source": [
    "#Разрабатываем каркас для нашего приложения - главное окно.\n",
    "#Параметром title() задаем название окна, resizable() запрещаем изменение размера окна.\n",
    "#Задаем положение нашего окна поверх всех окон wm_attributes().\n",
    "#Игровое поле реализуем с помощью Canvas.\n",
    "tk = Tk()\n",
    "tk.title('Змейка')\n",
    "tk.resizable(0, 0)\n",
    "tk.wm_attributes('-topmost', 1)\n",
    "canvas = Canvas(tk, width=form_width, height=form_height, bd=0, highlightthickness=0)\n",
    "canvas.pack()\n",
    "tk.update()"
   ]
  },
  {
   "cell_type": "code",
   "execution_count": 22,
   "id": "dc4ffdd9",
   "metadata": {},
   "outputs": [],
   "source": [
    "#Cоздает блоки еды в игровом поле, занося в список block_list.\n",
    "def create_block():\n",
    "    global block_count\n",
    "    for block in range(block_count):\n",
    "        block_x = random.randrange(border_width)\n",
    "        block_y = random.randrange(border_height)\n",
    "        id1 = canvas.create_oval(block_x * snake_item, block_y * snake_item, block_x * snake_item + snake_item,\n",
    "                                 block_y * snake_item + snake_item, fill=block_color1)\n",
    "        id2 = canvas.create_oval(block_x * snake_item + 2, block_y * snake_item + 2,\n",
    "                                 block_x * snake_item + snake_item - 2, block_y * snake_item + snake_item - 2,\n",
    "                                 fill=block_color2)\n",
    "        block_list.append([block_x, block_y, id1, id2])\n"
   ]
  },
  {
   "cell_type": "code",
   "execution_count": 23,
   "id": "24587bab",
   "metadata": {},
   "outputs": [],
   "source": [
    "#Ф-ция поедания и увеличения змейки\n",
    "def eating_block():\n",
    "    global snake_size\n",
    "    global block_count\n",
    "    global score\n",
    "    for block in block_list:\n",
    "        if block[0] == snake_x and block[1] == snake_y:\n",
    "            snake_size += 1\n",
    "            block_count -= 1\n",
    "            score += 1\n",
    "            canvas.delete(block[2])\n",
    "            canvas.delete(block[3])\n",
    "            block_list.remove(block)"
   ]
  },
  {
   "cell_type": "code",
   "execution_count": 24,
   "id": "d063aa1f",
   "metadata": {},
   "outputs": [],
   "source": [
    "#Рисуем по направлению движения змейки сегмент змейки.\n",
    "#Если количество сегментов змейки превышает его размер, то удаляем первый элемент змейки,\n",
    "#т.е. удаляем один блок с хвоста змейки функцией chack_delete_item.\n",
    "def snake_paint_item(canvas, x, y):\n",
    "    global snake_list\n",
    "    id1 = canvas.create_rectangle(x * snake_item, y * snake_item, x * snake_item + snake_item,\n",
    "                                  y * snake_item + snake_item, fill=snake_color1)\n",
    "    id2 = canvas.create_rectangle(x * snake_item + 2, y * snake_item + 2, x * snake_item + snake_item - 2,\n",
    "                                  y * snake_item + snake_item - 2, fill=snake_color2)\n",
    "    snake_list.append([x, y, id1, id2])\n",
    "\n",
    "def chack_delete_item():\n",
    "    if len(snake_list) >= snake_size:\n",
    "        snake_item_0 = snake_list.pop(0)\n",
    "        canvas.delete(snake_item_0[2])\n",
    "        canvas.delete(snake_item_0[3])"
   ]
  },
  {
   "cell_type": "code",
   "execution_count": 25,
   "id": "c50dd85a",
   "metadata": {},
   "outputs": [],
   "source": [
    "#Функция отвечает за движение змейки при нажатии кнопки изменяя параметры snake_x_nav и snake_y_nav.\n",
    "#Список snake_list хранит элементы змейки, а переменная snake_size хранит размер змейки.\n",
    "def snake_move(event):\n",
    "    snake_touch()\n",
    "    global snake_x\n",
    "    global snake_y\n",
    "    global snake_x_nav\n",
    "    global snake_y_nav\n",
    "    if event.keysym == 'Up':\n",
    "        snake_x_nav = 0\n",
    "        snake_y_nav = -1\n",
    "    elif event.keysym == 'Down':\n",
    "        snake_x_nav = 0\n",
    "        snake_y_nav = 1\n",
    "    elif event.keysym == 'Right':\n",
    "        snake_x_nav = 1\n",
    "        snake_y_nav = 0\n",
    "    elif event.keysym == 'Left':\n",
    "        snake_x_nav = -1\n",
    "        snake_y_nav = 0\n",
    "    chack_delete_item()\n",
    "    snake_x += snake_x_nav\n",
    "    snake_y += snake_y_nav\n",
    "    snake_paint_item(canvas, snake_x, snake_y)\n",
    "    eating_block()"
   ]
  },
  {
   "cell_type": "code",
   "execution_count": 26,
   "id": "2569d23b",
   "metadata": {},
   "outputs": [],
   "source": [
    "def snake_touch():\n",
    "    global snake_x\n",
    "    global snake_y\n",
    "    global snake_x_nav\n",
    "    global snake_y_nav\n",
    "    if not (snake_x_nav == 0 and snake_y_nav == 0):\n",
    "        x = snake_x + snake_x_nav\n",
    "        y = snake_y + snake_y_nav\n",
    "        for snake in snake_list:\n",
    "            if x == snake[0] and y == snake[1]:\n",
    "                game_over()\n",
    "                print('EXIT')"
   ]
  },
  {
   "cell_type": "code",
   "execution_count": 27,
   "id": "544e0404",
   "metadata": {},
   "outputs": [],
   "source": [
    "def snake_touch():\n",
    "    global snake_x\n",
    "    global snake_y\n",
    "    global snake_x_nav\n",
    "    global snake_y_nav\n",
    "    if not (snake_x_nav == 0 and snake_y_nav == 0):\n",
    "        x = snake_x + snake_x_nav\n",
    "        y = snake_y + snake_y_nav\n",
    "        for snake in snake_list:\n",
    "            if x == snake[0] and y == snake[1]:\n",
    "                game_over()\n",
    "                print('EXIT')"
   ]
  },
  {
   "cell_type": "code",
   "execution_count": 28,
   "id": "a0577242",
   "metadata": {},
   "outputs": [],
   "source": [
    "def ex(event):\n",
    "    pass\n",
    "\n",
    "\n",
    "def rezult():\n",
    "    global score\n",
    "    canvas.create_rectangle(0, 150, 500, 350, fill='red')\n",
    "    canvas.create_rectangle(5, 155, 495, 345, fill='green')\n",
    "    canvas.create_text(250, 250, text=f'Ваш счет: {score}', fill='white', font=('Arial', 30, 'bold italic'))\n",
    "\n",
    "\n",
    "def game_over():\n",
    "    global game\n",
    "    canvas.bind_all('<KeyPress-Left>', ex)\n",
    "    canvas.bind_all('<KeyPress-Right>', ex)\n",
    "    canvas.bind_all('<KeyPress-Up>', ex)\n",
    "    canvas.bind_all('<KeyPress-Down>', ex)\n",
    "    rezult()\n",
    "    game = False"
   ]
  },
  {
   "cell_type": "code",
   "execution_count": 29,
   "id": "d6dc60b9",
   "metadata": {},
   "outputs": [
    {
     "name": "stdout",
     "output_type": "stream",
     "text": [
      "Конец игры\n",
      "Счет: 3\n"
     ]
    }
   ],
   "source": [
    "create_block()\n",
    "snake_paint_item(canvas, snake_x, snake_y)\n",
    "while game:\n",
    "    if snake_x > border_width or snake_x < 0 or snake_y > border_height or snake_y < 0:\n",
    "        print(\"Конец игры\")\n",
    "        print(f'Счет: {score}')\n",
    "        game_over()\n",
    "    else:\n",
    "        if block_count == 0:\n",
    "            block_count = 3\n",
    "            create_block()\n",
    "        canvas.bind_all('<KeyPress-Left>', snake_move)\n",
    "        canvas.bind_all('<KeyPress-Right>', snake_move)\n",
    "        canvas.bind_all('<KeyPress-Up>', snake_move)\n",
    "        canvas.bind_all('<KeyPress-Down>', snake_move)\n",
    "        chack_delete_item()\n",
    "        snake_touch()\n",
    "        snake_x += snake_x_nav\n",
    "        snake_y += snake_y_nav\n",
    "        eating_block()\n",
    "        snake_paint_item(canvas, snake_x, snake_y)\n",
    "        time.sleep(snake_speed)\n",
    "        tk.update()"
   ]
  },
  {
   "cell_type": "code",
   "execution_count": null,
   "id": "457b5ede",
   "metadata": {},
   "outputs": [],
   "source": []
  },
  {
   "cell_type": "code",
   "execution_count": null,
   "id": "973a9cfd",
   "metadata": {},
   "outputs": [],
   "source": []
  }
 ],
 "metadata": {
  "kernelspec": {
   "display_name": "Python 3",
   "language": "python",
   "name": "python3"
  },
  "language_info": {
   "codemirror_mode": {
    "name": "ipython",
    "version": 3
   },
   "file_extension": ".py",
   "mimetype": "text/x-python",
   "name": "python",
   "nbconvert_exporter": "python",
   "pygments_lexer": "ipython3",
   "version": "3.8.8"
  }
 },
 "nbformat": 4,
 "nbformat_minor": 5
}
